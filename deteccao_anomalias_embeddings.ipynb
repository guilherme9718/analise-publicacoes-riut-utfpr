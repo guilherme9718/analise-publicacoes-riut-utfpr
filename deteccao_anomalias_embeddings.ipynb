{
 "cells": [
  {
   "cell_type": "code",
   "execution_count": 42,
   "id": "6a9ebb94-9323-4bc8-b108-6565f12a835d",
   "metadata": {},
   "outputs": [],
   "source": [
    "import pandas as pd\n",
    "import numpy as np\n",
    "from sklearn.neighbors import LocalOutlierFactor\n",
    "from sklearn.datasets import load_breast_cancer\n",
    "from sklearn.preprocessing import StandardScaler"
   ]
  },
  {
   "cell_type": "code",
   "execution_count": 79,
   "id": "0a582423-4498-443d-ba81-666becd22860",
   "metadata": {},
   "outputs": [],
   "source": [
    "embeddings = pd.read_csv('../data/embeddings.csv')"
   ]
  },
  {
   "cell_type": "code",
   "execution_count": 86,
   "id": "836825f9-d931-49a1-b437-dc45859bc85c",
   "metadata": {},
   "outputs": [],
   "source": [
    "# Standardize the data\n",
    "scaler = StandardScaler()\n",
    "embeddings_scalled = scaler.fit_transform(embeddings.drop(axis=1, labels='unique_id'))"
   ]
  },
  {
   "cell_type": "code",
   "execution_count": 93,
   "id": "a7e1c022-ca90-4d01-a2b1-a919f970759f",
   "metadata": {},
   "outputs": [
    {
     "data": {
      "text/plain": [
       "array([1, 1, 1, ..., 1, 1, 1])"
      ]
     },
     "execution_count": 93,
     "metadata": {},
     "output_type": "execute_result"
    }
   ],
   "source": [
    "clf = LocalOutlierFactor(n_neighbors=100)\n",
    "clf.fit_predict(embeddings_scalled)"
   ]
  },
  {
   "cell_type": "code",
   "execution_count": 94,
   "id": "ade73add-0df9-4177-9634-1eaed5ce4151",
   "metadata": {},
   "outputs": [],
   "source": [
    "nof = clf.negative_outlier_factor_"
   ]
  },
  {
   "cell_type": "code",
   "execution_count": 95,
   "id": "61a19e4a-17d6-459f-ac78-c40c5516f2df",
   "metadata": {},
   "outputs": [],
   "source": [
    "embeddings2 = embeddings.copy()\n",
    "embeddings2['outlier_factor'] = nof"
   ]
  },
  {
   "cell_type": "code",
   "execution_count": 96,
   "id": "54f849bf-d60d-4c18-b32a-48a91e88c20d",
   "metadata": {},
   "outputs": [
    {
     "data": {
      "text/plain": [
       "0       -1.012134\n",
       "1       -1.003719\n",
       "2       -1.028626\n",
       "3       -1.021654\n",
       "4       -1.015182\n",
       "           ...   \n",
       "17707   -1.040950\n",
       "17708   -1.033288\n",
       "17709   -1.004323\n",
       "17710   -0.996155\n",
       "17711   -1.000586\n",
       "Name: outlier_factor, Length: 17712, dtype: float64"
      ]
     },
     "execution_count": 96,
     "metadata": {},
     "output_type": "execute_result"
    }
   ],
   "source": [
    "embeddings2['outlier_factor']"
   ]
  },
  {
   "cell_type": "code",
   "execution_count": 98,
   "id": "86d285fa-1e61-4dac-8ac5-481ca4b394e4",
   "metadata": {},
   "outputs": [
    {
     "data": {
      "text/plain": [
       "unique_id         37154.000000\n",
       "0                     0.088200\n",
       "1                     0.080140\n",
       "2                     0.051360\n",
       "3                     0.092200\n",
       "                      ...     \n",
       "1020                  0.116640\n",
       "1021                  0.077300\n",
       "1022                  0.144700\n",
       "1023                  0.089400\n",
       "outlier_factor       -0.980216\n",
       "Length: 1026, dtype: float64"
      ]
     },
     "execution_count": 98,
     "metadata": {},
     "output_type": "execute_result"
    }
   ],
   "source": [
    "embeddings2.max()"
   ]
  },
  {
   "cell_type": "code",
   "execution_count": null,
   "id": "e4bf380a-572e-407b-908a-63eb1ed3cca9",
   "metadata": {},
   "outputs": [],
   "source": []
  }
 ],
 "metadata": {
  "kernelspec": {
   "display_name": "Python 3 (ipykernel)",
   "language": "python",
   "name": "python3"
  },
  "language_info": {
   "codemirror_mode": {
    "name": "ipython",
    "version": 3
   },
   "file_extension": ".py",
   "mimetype": "text/x-python",
   "name": "python",
   "nbconvert_exporter": "python",
   "pygments_lexer": "ipython3",
   "version": "3.12.9"
  }
 },
 "nbformat": 4,
 "nbformat_minor": 5
}
